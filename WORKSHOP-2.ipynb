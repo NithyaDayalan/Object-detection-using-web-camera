{
 "cells": [
  {
   "cell_type": "markdown",
   "id": "63fe975f-322b-4c77-b8fc-d463ec2f8b35",
   "metadata": {},
   "source": [
    "# *Workshop - 2 : Object detection using web camera* #\n",
    "### *NAME:* *NITHYA D* ###\n",
    "### *REGISTER NUMBER:* *212223240110* ###"
   ]
  },
  {
   "cell_type": "code",
   "execution_count": null,
   "id": "411b3ddc-9429-40d8-8a3f-fbdc7945f34d",
   "metadata": {},
   "outputs": [],
   "source": [
    "import cv2, numpy as np, os\n",
    "w, c, n = \"yolov4.weights\", \"yolov4.cfg\", \"coco.names\"\n",
    "for f in [w, c, n]:\n",
    "    if not os.path.exists(f): raise FileNotFoundError(f\"Missing: {f}\")\n",
    "net = cv2.dnn.readNet(w, c)\n",
    "layers = [net.getLayerNames()[i - 1] for i in net.getUnconnectedOutLayers().flatten()]\n",
    "classes = open(n).read().splitlines()\n",
    "cap = cv2.VideoCapture(0)\n",
    "while cap.isOpened():\n",
    "    r, f = cap.read()\n",
    "    if not r: break\n",
    "    h, wd = f.shape[:2]\n",
    "    blob = cv2.dnn.blobFromImage(f, 0.00392, (416, 416), (0, 0, 0), True)\n",
    "    net.setInput(blob)\n",
    "    for o in net.forward(layers):\n",
    "        for d in o:\n",
    "            s = d[5:]; i = np.argmax(s)\n",
    "            if s[i] > 0.5:\n",
    "                cx, cy, w_, h_ = (d[:4] * [wd, h, wd, h]).astype(int)\n",
    "                x, y = cx - w_//2, cy - h_//2\n",
    "                cv2.rectangle(f, (x, y), (x+w_, y+h_), (0,255,0), 2)\n",
    "                cv2.putText(f, f\"{classes[i]} {s[i]:.2f}\", (x, y-10), cv2.FONT_HERSHEY_SIMPLEX, 0.5, (0,255,0), 2)\n",
    "    cv2.imshow(\"YOLOv4\", f)\n",
    "    if cv2.waitKey(1) & 0xFF == ord('q'): break\n",
    "cap.release(); cv2.destroyAllWindows()"
   ]
  },
  {
   "cell_type": "code",
   "execution_count": null,
   "id": "a760c7fe-33b3-49f8-930e-b588eb928d40",
   "metadata": {},
   "outputs": [],
   "source": []
  },
  {
   "cell_type": "code",
   "execution_count": null,
   "id": "fb31964c-2f99-42bc-b186-3d4ff28faf5d",
   "metadata": {},
   "outputs": [],
   "source": []
  },
  {
   "cell_type": "code",
   "execution_count": null,
   "id": "11b27c6e-54b1-4e39-bb71-42b3be5bc254",
   "metadata": {},
   "outputs": [],
   "source": []
  }
 ],
 "metadata": {
  "kernelspec": {
   "display_name": "Python 3 (ipykernel)",
   "language": "python",
   "name": "python3"
  },
  "language_info": {
   "codemirror_mode": {
    "name": "ipython",
    "version": 3
   },
   "file_extension": ".py",
   "mimetype": "text/x-python",
   "name": "python",
   "nbconvert_exporter": "python",
   "pygments_lexer": "ipython3",
   "version": "3.11.13"
  }
 },
 "nbformat": 4,
 "nbformat_minor": 5
}
